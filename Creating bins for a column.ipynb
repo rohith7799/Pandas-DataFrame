{
 "cells": [
  {
   "cell_type": "code",
   "execution_count": null,
   "id": "5a0b3e2e",
   "metadata": {},
   "outputs": [],
   "source": [
    "import pandas as pd                  # pandas lib is used for tabular data preprocessing and cleaning\n",
    "import seaborn as sns                # seaborn lib is used for drawing visualizations for the data\n",
    "from matplotlib import pyplot as plt # matplotlib lib is used for drawing visualizations for the data\n",
    "import warnings                      # filterwarnings is used for filtering and supressing any warnings during the data cleaning\n",
    "warnings.filterwarnings('ignore')    # process"
   ]
  },
  {
   "cell_type": "code",
   "execution_count": null,
   "id": "a1588ea0",
   "metadata": {},
   "outputs": [],
   "source": [
    "df = pd.read_csv('C:/Users/ROHITH KUMAR/Desktop/HBIC/Feb/28-02-2023(47)/Financial-Data/Financial-Data.csv') # pd.read_csv is used for\n",
    "                                        # reading the tabular data into python pandas\n",
    "df # viewing the data frame"
   ]
  },
  {
   "cell_type": "code",
   "execution_count": null,
   "id": "3b832090",
   "metadata": {},
   "outputs": [],
   "source": [
    "def inced(x):\n",
    "    if x in range(0, 2000):\n",
    "        return '[0 to 1999]'\n",
    "    if x in range(2000, 4000):\n",
    "        return '[2000 to 3999]'\n",
    "    if x in range(4000, 6000):\n",
    "        return '[4000 to 5999]'\n",
    "    if x in range(6000, 8000):\n",
    "        return '[6000 to 7999]'\n",
    "    if x in range(8000, 10000):\n",
    "        return '[8000 to 10000]'"
   ]
  },
  {
   "cell_type": "code",
   "execution_count": null,
   "id": "a77ef7b5",
   "metadata": {},
   "outputs": [],
   "source": [
    "df['income_bins'] = df['income'].apply(inced) ## creating the income bins"
   ]
  }
 ],
 "metadata": {
  "kernelspec": {
   "display_name": "Python 3 (ipykernel)",
   "language": "python",
   "name": "python3"
  },
  "language_info": {
   "codemirror_mode": {
    "name": "ipython",
    "version": 3
   },
   "file_extension": ".py",
   "mimetype": "text/x-python",
   "name": "python",
   "nbconvert_exporter": "python",
   "pygments_lexer": "ipython3",
   "version": "3.9.13"
  }
 },
 "nbformat": 4,
 "nbformat_minor": 5
}
