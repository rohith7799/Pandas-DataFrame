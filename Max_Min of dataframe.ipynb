{
 "cells": [
  {
   "cell_type": "code",
   "execution_count": 1,
   "id": "f8b17d7f",
   "metadata": {},
   "outputs": [],
   "source": [
    "import pandas as pd"
   ]
  },
  {
   "cell_type": "code",
   "execution_count": null,
   "id": "ce588bad",
   "metadata": {},
   "outputs": [],
   "source": [
    "# find maximum values of a list of columns\n",
    "maxValues = df[['x', 'z']].max()\n",
    "\n",
    "print(\"Maximum value in column 'x' & 'z': \")\n",
    "print(maxValues)"
   ]
  },
  {
   "cell_type": "code",
   "execution_count": 2,
   "id": "2c2c7749",
   "metadata": {},
   "outputs": [
    {
     "name": "stdout",
     "output_type": "stream",
     "text": [
      "       Driver  Points  Age\n",
      "0    Hamilton     408   33\n",
      "1      Vettel     320   31\n",
      "2   Raikkonen     251   39\n",
      "3  Verstappen     249   21\n",
      "4      Bottas     247   29\n",
      "5   Ricciardo     170   29\n",
      "6  Hulkenberg      69   31\n",
      "7       Perez      62   28\n",
      "8   Magnussen      56   26\n",
      "9       Sainz      53   24\n"
     ]
    }
   ],
   "source": [
    "# importing pandas and numpy\n",
    "import pandas as pd\n",
    "import numpy as np\n",
    "\n",
    "# data of 2018 drivers world championship\n",
    "dict1 = {'Driver': ['Hamilton', 'Vettel', 'Raikkonen',\n",
    "\t\t\t\t\t'Verstappen', 'Bottas', 'Ricciardo',\n",
    "\t\t\t\t\t'Hulkenberg', 'Perez', 'Magnussen',\n",
    "\t\t\t\t\t'Sainz', 'Alonso', 'Ocon', 'Leclerc',\n",
    "\t\t\t\t\t'Grosjean', 'Gasly', 'Vandoorne',\n",
    "\t\t\t\t\t'Ericsson', 'Stroll', 'Hartley', 'Sirotkin'],\n",
    "\n",
    "\t\t'Points': [408, 320, 251, 249, 247, 170, 69, 62, 56,\n",
    "\t\t\t\t\t53, 50, 49, 39, 37, 29, 12, 9, 6, 4, 1],\n",
    "\n",
    "\t\t'Age': [33, 31, 39, 21, 29, 29, 31, 28, 26, 24, 37,\n",
    "\t\t\t\t22, 21, 32, 22, 26, 28, 20, 29, 23]}\n",
    "\n",
    "# creating dataframe using DataFrame constructor\n",
    "df = pd.DataFrame(dict1)\n",
    "print(df.head(10))"
   ]
  },
  {
   "cell_type": "code",
   "execution_count": 3,
   "id": "cb0c9dc5",
   "metadata": {},
   "outputs": [],
   "source": [
    "#Example 1: Shows max on Driver, Points, and Age columns."
   ]
  },
  {
   "cell_type": "code",
   "execution_count": 4,
   "id": "ba722419",
   "metadata": {},
   "outputs": [
    {
     "name": "stdout",
     "output_type": "stream",
     "text": [
      "Driver    Vettel\n",
      "Points       408\n",
      "Age           39\n",
      "dtype: object\n"
     ]
    }
   ],
   "source": [
    "# creating dataframe using DataFrame constructor\n",
    "df = pd.DataFrame(dict1)\n",
    "\n",
    "# the result shows max on\n",
    "# Driver, Points, Age columns.\n",
    "print(df.max())"
   ]
  },
  {
   "cell_type": "code",
   "execution_count": 5,
   "id": "e493b342",
   "metadata": {},
   "outputs": [],
   "source": [
    "# Example 2: Who scored max points"
   ]
  },
  {
   "cell_type": "code",
   "execution_count": 6,
   "id": "90f01fef",
   "metadata": {},
   "outputs": [
    {
     "name": "stdout",
     "output_type": "stream",
     "text": [
      "     Driver  Points  Age\n",
      "0  Hamilton     408   33\n"
     ]
    }
   ],
   "source": [
    "# creating dataframe using DataFrame constructor\n",
    "df = pd.DataFrame(dict1)\n",
    "\n",
    "# Who scored more points ?\n",
    "print(df[df.Points == df.Points.max()])"
   ]
  },
  {
   "cell_type": "code",
   "execution_count": 7,
   "id": "70998f33",
   "metadata": {},
   "outputs": [],
   "source": [
    "# Example 3: What is the maximum age"
   ]
  },
  {
   "cell_type": "code",
   "execution_count": 8,
   "id": "8c4a74bf",
   "metadata": {},
   "outputs": [
    {
     "name": "stdout",
     "output_type": "stream",
     "text": [
      "39\n"
     ]
    }
   ],
   "source": [
    "# creating dataframe using DataFrame constructor\n",
    "df = pd.DataFrame(dict1)\n",
    "\n",
    "# what is the maximum age ?\n",
    "print(df.Age.max())\n"
   ]
  },
  {
   "cell_type": "code",
   "execution_count": 9,
   "id": "f7cc5eec",
   "metadata": {},
   "outputs": [],
   "source": [
    "# Example 4: Which row has maximum age in the Dataframe | who is the oldest driver?"
   ]
  },
  {
   "cell_type": "code",
   "execution_count": 11,
   "id": "0ff3cdd9",
   "metadata": {},
   "outputs": [
    {
     "name": "stdout",
     "output_type": "stream",
     "text": [
      "      Driver  Points  Age\n",
      "2  Raikkonen     251   39\n"
     ]
    }
   ],
   "source": [
    "# creating dataframe using DataFrame constructor\n",
    "df = pd.DataFrame(dict1)\n",
    "\n",
    "# Which row has maximum age |\n",
    "# who is the oldest driver ?\n",
    "print(df[df.Age == df.Age.max()])"
   ]
  },
  {
   "cell_type": "code",
   "execution_count": 12,
   "id": "498b4c4a",
   "metadata": {},
   "outputs": [],
   "source": [
    "# Example 1: Shows min on Driver, Points, Age columns. "
   ]
  },
  {
   "cell_type": "code",
   "execution_count": 13,
   "id": "5a06fc52",
   "metadata": {},
   "outputs": [
    {
     "name": "stdout",
     "output_type": "stream",
     "text": [
      "Driver    Alonso\n",
      "Points         1\n",
      "Age           20\n",
      "dtype: object\n"
     ]
    }
   ],
   "source": [
    "# creating dataframe using DataFrame constructor\n",
    "df = pd.DataFrame(dict1)\n",
    "\n",
    "# the result shows min on\n",
    "# Driver, Points, Age columns.\n",
    "print(df.min())"
   ]
  },
  {
   "cell_type": "code",
   "execution_count": 14,
   "id": "8f6748d4",
   "metadata": {},
   "outputs": [],
   "source": [
    "# Example 2: Who scored fewer points"
   ]
  },
  {
   "cell_type": "code",
   "execution_count": 15,
   "id": "1c9a3877",
   "metadata": {},
   "outputs": [
    {
     "name": "stdout",
     "output_type": "stream",
     "text": [
      "      Driver  Points  Age\n",
      "19  Sirotkin       1   23\n"
     ]
    }
   ],
   "source": [
    "# creating dataframe using DataFrame constructor\n",
    "df = pd.DataFrame(dict1)\n",
    "\n",
    "# Who scored less points ?\n",
    "print(df[df.Points == df.Points.min()])"
   ]
  },
  {
   "cell_type": "code",
   "execution_count": null,
   "id": "2d7b9cc8",
   "metadata": {},
   "outputs": [],
   "source": [
    "# Example 3: Which row has minimum age in the Dataframe who is the youngest driver "
   ]
  },
  {
   "cell_type": "code",
   "execution_count": 16,
   "id": "219bab6b",
   "metadata": {},
   "outputs": [
    {
     "name": "stdout",
     "output_type": "stream",
     "text": [
      "    Driver  Points  Age\n",
      "17  Stroll       6   20\n"
     ]
    }
   ],
   "source": [
    "# creating dataframe using DataFrame constructor\n",
    "df = pd.DataFrame(dict1)\n",
    "\n",
    "# Which row has maximum age |\n",
    "# who is the youngest driver ?\n",
    "print(df[df.Age == df.Age.min()])"
   ]
  },
  {
   "cell_type": "code",
   "execution_count": null,
   "id": "77f0e0bc",
   "metadata": {},
   "outputs": [],
   "source": []
  }
 ],
 "metadata": {
  "kernelspec": {
   "display_name": "Python 3 (ipykernel)",
   "language": "python",
   "name": "python3"
  },
  "language_info": {
   "codemirror_mode": {
    "name": "ipython",
    "version": 3
   },
   "file_extension": ".py",
   "mimetype": "text/x-python",
   "name": "python",
   "nbconvert_exporter": "python",
   "pygments_lexer": "ipython3",
   "version": "3.9.13"
  }
 },
 "nbformat": 4,
 "nbformat_minor": 5
}
